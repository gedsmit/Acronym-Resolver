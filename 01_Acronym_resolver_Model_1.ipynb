{
  "nbformat": 4,
  "nbformat_minor": 0,
  "metadata": {
    "colab": {
      "name": "01 Acronym_resolver_Model_1.ipynb",
      "provenance": [],
      "collapsed_sections": [],
      "authorship_tag": "ABX9TyMVvnJOrVJSBJgTl785lreX",
      "include_colab_link": true
    },
    "kernelspec": {
      "name": "python3",
      "display_name": "Python 3"
    },
    "language_info": {
      "name": "python"
    },
    "accelerator": "GPU"
  },
  "cells": [
    {
      "cell_type": "markdown",
      "metadata": {
        "id": "view-in-github",
        "colab_type": "text"
      },
      "source": [
        "<a href=\"https://colab.research.google.com/github/gedsmit/Acronym-Resolver/blob/main/01_Acronym_resolver_Model_1.ipynb\" target=\"_parent\"><img src=\"https://colab.research.google.com/assets/colab-badge.svg\" alt=\"Open In Colab\"/></a>"
      ]
    },
    {
      "cell_type": "code",
      "metadata": {
        "colab": {
          "base_uri": "https://localhost:8080/"
        },
        "id": "p5vxRxOGAuTl",
        "outputId": "bde815d9-06c0-4b4b-d6f1-3a14df7f50e6"
      },
      "source": [
        "# Get train data\n",
        "!wget https://raw.githubusercontent.com/paudan/acronym-expansion/main/data/train.json\n",
        "!wget \"https://raw.githubusercontent.com/paudan/acronym-expansion/main/data/diction.json\"\n"
      ],
      "execution_count": null,
      "outputs": [
        {
          "output_type": "stream",
          "name": "stdout",
          "text": [
            "--2021-11-19 17:58:33--  https://raw.githubusercontent.com/paudan/acronym-expansion/main/data/train.json\n",
            "Resolving raw.githubusercontent.com (raw.githubusercontent.com)... 185.199.108.133, 185.199.109.133, 185.199.110.133, ...\n",
            "Connecting to raw.githubusercontent.com (raw.githubusercontent.com)|185.199.108.133|:443... connected.\n",
            "HTTP request sent, awaiting response... 200 OK\n",
            "Length: 17354149 (17M) [text/plain]\n",
            "Saving to: ‘train.json’\n",
            "\n",
            "train.json          100%[===================>]  16.55M  94.7MB/s    in 0.2s    \n",
            "\n",
            "2021-11-19 17:58:34 (94.7 MB/s) - ‘train.json’ saved [17354149/17354149]\n",
            "\n",
            "--2021-11-19 17:58:34--  https://raw.githubusercontent.com/paudan/acronym-expansion/main/data/diction.json\n",
            "Resolving raw.githubusercontent.com (raw.githubusercontent.com)... 185.199.108.133, 185.199.109.133, 185.199.110.133, ...\n",
            "Connecting to raw.githubusercontent.com (raw.githubusercontent.com)|185.199.108.133|:443... connected.\n",
            "HTTP request sent, awaiting response... 200 OK\n",
            "Length: 76910 (75K) [text/plain]\n",
            "Saving to: ‘diction.json’\n",
            "\n",
            "diction.json        100%[===================>]  75.11K  --.-KB/s    in 0.02s   \n",
            "\n",
            "2021-11-19 17:58:34 (4.29 MB/s) - ‘diction.json’ saved [76910/76910]\n",
            "\n"
          ]
        }
      ]
    },
    {
      "cell_type": "code",
      "metadata": {
        "id": "vdyhfxSuG4OO"
      },
      "source": [
        "import pandas as pd\n",
        "import json\n",
        "train_data_full = pd.io.json.read_json(\"train.json\")\n",
        "with open('diction.json') as json_data:\n",
        "    diction = json.load(json_data)"
      ],
      "execution_count": null,
      "outputs": []
    },
    {
      "cell_type": "code",
      "metadata": {
        "colab": {
          "base_uri": "https://localhost:8080/"
        },
        "id": "AZooiaAZVQWW",
        "outputId": "fbadaf1f-361c-4ca8-8881-b296547deef0"
      },
      "source": [
        "train_data_full['count']=train_data_full.groupby('expansion')['expansion'].transform('count')\n",
        "train_data_full.sort_values(by='count', axis = 0, ascending=False)\n",
        "\n",
        "train_data_full['expansion'].value_counts()\n",
        "\n"
      ],
      "execution_count": null,
      "outputs": [
        {
          "output_type": "execute_result",
          "data": {
            "text/plain": [
              "convolutional neural network    2579\n",
              "recurrent neural network        1064\n",
              "forward error correction        1036\n",
              "computed tomography              842\n",
              "reinforcement learning           822\n",
              "                                ... \n",
              "emergency department               1\n",
              "single architecture                1\n",
              "mask pyramid                       1\n",
              "forward models                     1\n",
              "barabasi albert                    1\n",
              "Name: expansion, Length: 2150, dtype: int64"
            ]
          },
          "metadata": {},
          "execution_count": 3
        }
      ]
    },
    {
      "cell_type": "code",
      "metadata": {
        "colab": {
          "base_uri": "https://localhost:8080/",
          "height": 446
        },
        "id": "GLlWmYRUzz0r",
        "outputId": "fcd4b984-8523-42ad-9815-8b6909459a58"
      },
      "source": [
        "import matplotlib.pyplot as plt\n",
        "plt.figure(figsize=(10, 7))\n",
        "plt.scatter(train_data_full['expansion'], train_data_full['count'], label=\"acronyms\")\n",
        "# plt.show"
      ],
      "execution_count": null,
      "outputs": [
        {
          "output_type": "execute_result",
          "data": {
            "text/plain": [
              "<matplotlib.collections.PathCollection at 0x7fe1a50b7c50>"
            ]
          },
          "metadata": {},
          "execution_count": 4
        },
        {
          "output_type": "display_data",
          "data": {
            "image/png": "[encoded data removed]",
            "text/plain": [
              "<Figure size 720x504 with 1 Axes>"
            ]
          },
          "metadata": {
            "needs_background": "light"
          }
        }
      ]
    },
    {
      "cell_type": "code",
      "metadata": {
        "id": "vBdEjfFaH8-u"
      },
      "source": [
        "train_data_full['count']=train_data_full.groupby('expansion')['expansion'].transform('count')\n",
        "train_data_balanced = train_data_full.loc[(train_data_full['count'] >= 150) & (train_data_full['count'] <= 250)]"
      ],
      "execution_count": null,
      "outputs": []
    },
    {
      "cell_type": "code",
      "metadata": {
        "colab": {
          "base_uri": "https://localhost:8080/",
          "height": 446
        },
        "id": "opf4Or4EUkjK",
        "outputId": "67927019-1446-4806-baac-4b6e4a81e650"
      },
      "source": [
        "plt.figure(figsize=(10, 7))\n",
        "plt.scatter(train_data_balanced['expansion'], train_data_balanced['count'], label=\"acronyms\")\n",
        "plt.show"
      ],
      "execution_count": null,
      "outputs": [
        {
          "output_type": "execute_result",
          "data": {
            "text/plain": [
              "<function matplotlib.pyplot.show>"
            ]
          },
          "metadata": {},
          "execution_count": 6
        },
        {
          "output_type": "display_data",
          "data": {
            "image/png": "[encoded data removed]",
            "text/plain": [
              "<Figure size 720x504 with 1 Axes>"
            ]
          },
          "metadata": {
            "needs_background": "light"
          }
        }
      ]
    },
    {
      "cell_type": "code",
      "metadata": {
        "id": "3ZU14lXm5QxM"
      },
      "source": [
        "train_data_balanced = train_data_balanced.reset_index(drop=True) "
      ],
      "execution_count": null,
      "outputs": []
    },
    {
      "cell_type": "code",
      "metadata": {
        "colab": {
          "base_uri": "https://localhost:8080/"
        },
        "id": "famqTTd_8Z1K",
        "outputId": "7a9563e3-df21-4a45-9a8f-8c373e4e154d"
      },
      "source": [
        "train_data_balanced['acronym_value'] = None\n",
        "\n",
        "for row in range(len(train_data_balanced)):\n",
        "  train_data_balanced['acronym_value'][row] = \\\n",
        "      train_data_balanced['tokens'][row][int(train_data_balanced['acronym'][row])]"
      ],
      "execution_count": null,
      "outputs": [
        {
          "output_type": "stream",
          "name": "stderr",
          "text": [
            "/usr/local/lib/python3.7/dist-packages/ipykernel_launcher.py:4: SettingWithCopyWarning: \n",
            "A value is trying to be set on a copy of a slice from a DataFrame\n",
            "\n",
            "See the caveats in the documentation: https://pandas.pydata.org/pandas-docs/stable/user_guide/indexing.html#returning-a-view-versus-a-copy\n",
            "  after removing the cwd from sys.path.\n"
          ]
        }
      ]
    },
    {
      "cell_type": "code",
      "metadata": {
        "id": "1uOV8yLCpthn",
        "colab": {
          "base_uri": "https://localhost:8080/",
          "height": 424
        },
        "outputId": "74ca4ac9-924b-4ed5-8132-5cb032192efc"
      },
      "source": [
        "  # Create extend dataframe with all possible expansion values, add column 'label' with labels and add column 'sentences' with possible expansion forms \n",
        "\n",
        "  train_data_extended = pd.DataFrame(columns=['tokens','acronym','expansion','label'])\n",
        "  train_data_extended['sentences'] = None\n",
        "\n",
        "  for row in range(len(train_data_balanced)):\n",
        "    expansions = diction[train_data_balanced['acronym_value'][row]]\n",
        "    truth_expansion = train_data_balanced['expansion'][row]\n",
        "    \n",
        "    if not(train_data_balanced['acronym_value'][row] in diction.keys()) or not(truth_expansion in expansions):\n",
        "      expansions = expansions.append(truth_expansion) \n",
        "      diction[train_data_balanced['acronym_value'][row]] = expansions\n",
        "    \n",
        "    for x in range(len(expansions)):\n",
        "      train_data_extended = train_data_extended.append({'tokens': train_data_balanced['tokens'][row], 'acronym': train_data_balanced['acronym_value'][row], \\\n",
        "                  'expansion': expansions[x], 'label': None}, ignore_index=True)\n",
        "      if(expansions[x].strip() == truth_expansion.strip()):\n",
        "        train_data_extended['label'].iloc[-1] = 1\n",
        "      else:\n",
        "        train_data_extended['label'].iloc[-1] = 0\n",
        "      \n",
        "      train_data_extended['sentences'].iloc[-1]=\" \".join(train_data_extended['tokens'].iloc[-1]).replace(train_data_extended['acronym'].iloc[-1], \\\n",
        "                                                                                                         train_data_extended['expansion'].iloc[-1])\n",
        "  train_data_extended\n"
      ],
      "execution_count": null,
      "outputs": [
        {
          "output_type": "execute_result",
          "data": {
            "text/html": [
              "<div>\n",
              "<style scoped>\n",
              "    .dataframe tbody tr th:only-of-type {\n",
              "        vertical-align: middle;\n",
              "    }\n",
              "\n",
              "    .dataframe tbody tr th {\n",
              "        vertical-align: top;\n",
              "    }\n",
              "\n",
              "    .dataframe thead th {\n",
              "        text-align: right;\n",
              "    }\n",
              "</style>\n",
              "<table border=\"1\" class=\"dataframe\">\n",
              "  <thead>\n",
              "    <tr style=\"text-align: right;\">\n",
              "      <th></th>\n",
              "      <th>tokens</th>\n",
              "      <th>acronym</th>\n",
              "      <th>expansion</th>\n",
              "      <th>label</th>\n",
              "      <th>sentences</th>\n",
              "    </tr>\n",
              "  </thead>\n",
              "  <tbody>\n",
              "    <tr>\n",
              "      <th>0</th>\n",
              "      <td>[The, AV, and, RV, strategy, requires, informa...</td>\n",
              "      <td>RV</td>\n",
              "      <td>random vaccination</td>\n",
              "      <td>1</td>\n",
              "      <td>The AV and random vaccination strategy require...</td>\n",
              "    </tr>\n",
              "    <tr>\n",
              "      <th>1</th>\n",
              "      <td>[The, AV, and, RV, strategy, requires, informa...</td>\n",
              "      <td>RV</td>\n",
              "      <td>right ventricle</td>\n",
              "      <td>0</td>\n",
              "      <td>The AV and right ventricle strategy requires i...</td>\n",
              "    </tr>\n",
              "    <tr>\n",
              "      <th>2</th>\n",
              "      <td>[The, AV, and, RV, strategy, requires, informa...</td>\n",
              "      <td>RV</td>\n",
              "      <td>random voting</td>\n",
              "      <td>0</td>\n",
              "      <td>The AV and random voting strategy requires inf...</td>\n",
              "    </tr>\n",
              "    <tr>\n",
              "      <th>3</th>\n",
              "      <td>[The, AV, and, RV, strategy, requires, informa...</td>\n",
              "      <td>RV</td>\n",
              "      <td>random variable</td>\n",
              "      <td>0</td>\n",
              "      <td>The AV and random variable strategy requires i...</td>\n",
              "    </tr>\n",
              "    <tr>\n",
              "      <th>4</th>\n",
              "      <td>[The, AV, and, RV, strategy, requires, informa...</td>\n",
              "      <td>RV</td>\n",
              "      <td>resilience vector</td>\n",
              "      <td>0</td>\n",
              "      <td>The AV and resilience vector strategy requires...</td>\n",
              "    </tr>\n",
              "    <tr>\n",
              "      <th>...</th>\n",
              "      <td>...</td>\n",
              "      <td>...</td>\n",
              "      <td>...</td>\n",
              "      <td>...</td>\n",
              "      <td>...</td>\n",
              "    </tr>\n",
              "    <tr>\n",
              "      <th>20850</th>\n",
              "      <td>[Akin, to, the, training, examples, required, ...</td>\n",
              "      <td>IR</td>\n",
              "      <td>incremental relaying</td>\n",
              "      <td>0</td>\n",
              "      <td>Akin to the training examples required for an ...</td>\n",
              "    </tr>\n",
              "    <tr>\n",
              "      <th>20851</th>\n",
              "      <td>[Akin, to, the, training, examples, required, ...</td>\n",
              "      <td>IR</td>\n",
              "      <td>image resolution</td>\n",
              "      <td>0</td>\n",
              "      <td>Akin to the training examples required for an ...</td>\n",
              "    </tr>\n",
              "    <tr>\n",
              "      <th>20852</th>\n",
              "      <td>[Akin, to, the, training, examples, required, ...</td>\n",
              "      <td>IR</td>\n",
              "      <td>inactive region</td>\n",
              "      <td>0</td>\n",
              "      <td>Akin to the training examples required for an ...</td>\n",
              "    </tr>\n",
              "    <tr>\n",
              "      <th>20853</th>\n",
              "      <td>[Instead, of, directly, learning, the, log, -,...</td>\n",
              "      <td>NN</td>\n",
              "      <td>neural network</td>\n",
              "      <td>1</td>\n",
              "      <td>Instead of directly learning the log - prior ,...</td>\n",
              "    </tr>\n",
              "    <tr>\n",
              "      <th>20854</th>\n",
              "      <td>[Instead, of, directly, learning, the, log, -,...</td>\n",
              "      <td>NN</td>\n",
              "      <td>nearest neighbor</td>\n",
              "      <td>0</td>\n",
              "      <td>Instead of directly learning the log - prior ,...</td>\n",
              "    </tr>\n",
              "  </tbody>\n",
              "</table>\n",
              "<p>20855 rows × 5 columns</p>\n",
              "</div>"
            ],
            "text/plain": [
              "                                                  tokens  ...                                          sentences\n",
              "0      [The, AV, and, RV, strategy, requires, informa...  ...  The AV and random vaccination strategy require...\n",
              "1      [The, AV, and, RV, strategy, requires, informa...  ...  The AV and right ventricle strategy requires i...\n",
              "2      [The, AV, and, RV, strategy, requires, informa...  ...  The AV and random voting strategy requires inf...\n",
              "3      [The, AV, and, RV, strategy, requires, informa...  ...  The AV and random variable strategy requires i...\n",
              "4      [The, AV, and, RV, strategy, requires, informa...  ...  The AV and resilience vector strategy requires...\n",
              "...                                                  ...  ...                                                ...\n",
              "20850  [Akin, to, the, training, examples, required, ...  ...  Akin to the training examples required for an ...\n",
              "20851  [Akin, to, the, training, examples, required, ...  ...  Akin to the training examples required for an ...\n",
              "20852  [Akin, to, the, training, examples, required, ...  ...  Akin to the training examples required for an ...\n",
              "20853  [Instead, of, directly, learning, the, log, -,...  ...  Instead of directly learning the log - prior ,...\n",
              "20854  [Instead, of, directly, learning, the, log, -,...  ...  Instead of directly learning the log - prior ,...\n",
              "\n",
              "[20855 rows x 5 columns]"
            ]
          },
          "metadata": {},
          "execution_count": 9
        }
      ]
    },
    {
      "cell_type": "code",
      "metadata": {
        "id": "n02NHVIgPZd0"
      },
      "source": [
        "# set train and validation data\n",
        "train_sentences = train_data_extended['sentences'][:17000]\n",
        "train_labels = train_data_extended['label'][:17000].astype('float32')\n",
        "val_sentences = train_data_extended['sentences'][17000:]\n",
        "val_labels = train_data_extended['label'][17000:].astype('float32')"
      ],
      "execution_count": null,
      "outputs": []
    },
    {
      "cell_type": "code",
      "metadata": {
        "id": "nCMBQAKXwM9P"
      },
      "source": [
        "import tensorflow_hub as hub\n",
        "import tensorflow as tf \n",
        "from tensorflow.keras import layers\n"
      ],
      "execution_count": null,
      "outputs": []
    },
    {
      "cell_type": "code",
      "metadata": {
        "id": "WIduIFYJwdrP"
      },
      "source": [
        "embed = hub.load(\"https://tfhub.dev/google/universal-sentence-encoder/4\")"
      ],
      "execution_count": null,
      "outputs": []
    },
    {
      "cell_type": "code",
      "metadata": {
        "id": "Hz7GvEw_wXub"
      },
      "source": [
        "sentence_encoder_layer = hub.KerasLayer(\"https://tfhub.dev/google/universal-sentence-encoder/4\",\n",
        "                                        input_shape=[], # shape of inputs coming to our model \n",
        "                                        dtype=tf.string, # data type of inputs coming to the USE layer\n",
        "                                        trainable=False, # keep the pretrained weights (we'll create a feature extractor)\n",
        "                                        name=\"USE\")"
      ],
      "execution_count": null,
      "outputs": []
    },
    {
      "cell_type": "code",
      "metadata": {
        "colab": {
          "base_uri": "https://localhost:8080/"
        },
        "id": "Om79SJOjwnbd",
        "outputId": "587ea7a0-1785-407a-cd53-7249a6b3cb2a"
      },
      "source": [
        "# Create model using the Sequential API\n",
        "model_1 = tf.keras.Sequential([\n",
        "  sentence_encoder_layer, # take in sentences and then encode them into an embedding\n",
        "  layers.Dense(64, activation=\"relu\"),\n",
        "  layers.Dense(1, activation=\"sigmoid\")\n",
        "], name=\"model_1\")\n",
        "\n",
        "# Compile model\n",
        "model_1.compile(loss=\"binary_crossentropy\",\n",
        "                optimizer=tf.keras.optimizers.Adam(),\n",
        "                metrics=[\"accuracy\"])\n",
        "\n",
        "model_1.summary()"
      ],
      "execution_count": null,
      "outputs": [
        {
          "output_type": "stream",
          "name": "stdout",
          "text": [
            "Model: \"model_1\"\n",
            "_________________________________________________________________\n",
            " Layer (type)                Output Shape              Param #   \n",
            "=================================================================\n",
            " USE (KerasLayer)            (None, 512)               256797824 \n",
            "                                                                 \n",
            " dense (Dense)               (None, 64)                32832     \n",
            "                                                                 \n",
            " dense_1 (Dense)             (None, 1)                 65        \n",
            "                                                                 \n",
            "=================================================================\n",
            "Total params: 256,830,721\n",
            "Trainable params: 32,897\n",
            "Non-trainable params: 256,797,824\n",
            "_________________________________________________________________\n"
          ]
        }
      ]
    },
    {
      "cell_type": "code",
      "metadata": {
        "id": "xIGg0rjQCaeD"
      },
      "source": [
        "SAVE_DIR = \"MyModel1\""
      ],
      "execution_count": null,
      "outputs": []
    },
    {
      "cell_type": "code",
      "metadata": {
        "colab": {
          "base_uri": "https://localhost:8080/"
        },
        "id": "MqqEGUZNXp7v",
        "outputId": "fbeccf1f-d726-4439-8709-e82089ee2dee"
      },
      "source": [
        "train_sentences.shape"
      ],
      "execution_count": null,
      "outputs": [
        {
          "output_type": "execute_result",
          "data": {
            "text/plain": [
              "(17000,)"
            ]
          },
          "metadata": {},
          "execution_count": 20
        }
      ]
    },
    {
      "cell_type": "code",
      "metadata": {
        "id": "8IXQKvpmxa_-",
        "colab": {
          "base_uri": "https://localhost:8080/"
        },
        "outputId": "f3fdaa82-b712-4012-d619-26f881ca5e0a"
      },
      "source": [
        "!wget https://raw.githubusercontent.com/mrdbourke/tensorflow-deep-learning/main/extras/helper_functions.py\n",
        "from helper_functions import create_tensorboard_callback\n",
        "model_1_history = model_1.fit(train_sentences,\n",
        "                              train_labels,\n",
        "                              epochs=5,\n",
        "                              validation_data=(val_sentences, val_labels),\n",
        "                              callbacks=[create_tensorboard_callback(SAVE_DIR, \n",
        "                                                                     \"tf_hub_sentence_encoder\")])"
      ],
      "execution_count": null,
      "outputs": [
        {
          "output_type": "stream",
          "name": "stdout",
          "text": [
            "--2021-11-19 18:13:56--  https://raw.githubusercontent.com/mrdbourke/tensorflow-deep-learning/main/extras/helper_functions.py\n",
            "Resolving raw.githubusercontent.com (raw.githubusercontent.com)... 185.199.108.133, 185.199.109.133, 185.199.110.133, ...\n",
            "Connecting to raw.githubusercontent.com (raw.githubusercontent.com)|185.199.108.133|:443... connected.\n",
            "HTTP request sent, awaiting response... 200 OK\n",
            "Length: 10246 (10K) [text/plain]\n",
            "Saving to: ‘helper_functions.py.1’\n",
            "\n",
            "\rhelper_functions.py   0%[                    ]       0  --.-KB/s               \rhelper_functions.py 100%[===================>]  10.01K  --.-KB/s    in 0s      \n",
            "\n",
            "2021-11-19 18:13:56 (63.6 MB/s) - ‘helper_functions.py.1’ saved [10246/10246]\n",
            "\n",
            "Saving TensorBoard log files to: MyModel1/tf_hub_sentence_encoder/20211119-181356\n",
            "Epoch 1/5\n",
            "532/532 [==============================] - 20s 28ms/step - loss: 0.4692 - accuracy: 0.7879 - val_loss: 0.3936 - val_accuracy: 0.8311\n",
            "Epoch 2/5\n",
            "532/532 [==============================] - 14s 27ms/step - loss: 0.3514 - accuracy: 0.8479 - val_loss: 0.3249 - val_accuracy: 0.8721\n",
            "Epoch 3/5\n",
            "532/532 [==============================] - 14s 27ms/step - loss: 0.2851 - accuracy: 0.8874 - val_loss: 0.2772 - val_accuracy: 0.9006\n",
            "Epoch 4/5\n",
            "532/532 [==============================] - 14s 26ms/step - loss: 0.2400 - accuracy: 0.9100 - val_loss: 0.2470 - val_accuracy: 0.9160\n",
            "Epoch 5/5\n",
            "532/532 [==============================] - 14s 25ms/step - loss: 0.2046 - accuracy: 0.9289 - val_loss: 0.2167 - val_accuracy: 0.9240\n"
          ]
        }
      ]
    },
    {
      "cell_type": "code",
      "metadata": {
        "id": "8sha5RIOT7W6",
        "colab": {
          "base_uri": "https://localhost:8080/"
        },
        "outputId": "e05daaa6-91aa-4cb9-ac06-e4eff5c063ce"
      },
      "source": [
        "model_1.evaluate(val_sentences, val_labels)"
      ],
      "execution_count": null,
      "outputs": [
        {
          "output_type": "stream",
          "name": "stdout",
          "text": [
            "121/121 [==============================] - 2s 18ms/step - loss: 0.2167 - accuracy: 0.9240\n"
          ]
        },
        {
          "output_type": "execute_result",
          "data": {
            "text/plain": [
              "[0.21671181917190552, 0.9239948391914368]"
            ]
          },
          "metadata": {},
          "execution_count": 31
        }
      ]
    },
    {
      "cell_type": "code",
      "metadata": {
        "id": "kOEGAyDrc9Bs"
      },
      "source": [
        "from helper_functions import calculate_results"
      ],
      "execution_count": null,
      "outputs": []
    },
    {
      "cell_type": "code",
      "metadata": {
        "colab": {
          "base_uri": "https://localhost:8080/"
        },
        "id": "V8IZhpsGcl3v",
        "outputId": "898071a1-2fc3-4882-de40-fd0a132a55e7"
      },
      "source": [
        "model_1_pred_probs = model_1.predict(val_sentences)\n",
        "model_1_preds = tf.squeeze(tf.round(model_1_pred_probs))\n",
        "model_1_results = calculate_results(y_true=val_labels, \n",
        "                                    y_pred=model_1_preds)\n",
        "model_1_results\n"
      ],
      "execution_count": null,
      "outputs": [
        {
          "output_type": "execute_result",
          "data": {
            "text/plain": [
              "{'accuracy': 92.39948119325551,\n",
              " 'f1': 0.9219514588151075,\n",
              " 'precision': 0.9229123011753817,\n",
              " 'recall': 0.9239948119325552}"
            ]
          },
          "metadata": {},
          "execution_count": 36
        }
      ]
    }
  ]
}